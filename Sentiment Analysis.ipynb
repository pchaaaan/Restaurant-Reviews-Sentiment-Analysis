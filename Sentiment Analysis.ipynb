{
 "cells": [
  {
   "cell_type": "code",
   "execution_count": 1,
   "metadata": {
    "colab": {
     "base_uri": "https://localhost:8080/"
    },
    "id": "hRYx2Y5hSx9M",
    "outputId": "ec1716df-8d93-4ca7-c496-6b46df0639a5"
   },
   "outputs": [
    {
     "name": "stdout",
     "output_type": "stream",
     "text": [
      "Requirement already satisfied: vaderSentiment in /usr/local/lib/python3.10/dist-packages (3.3.2)\n",
      "Requirement already satisfied: requests in /usr/local/lib/python3.10/dist-packages (from vaderSentiment) (2.31.0)\n",
      "Requirement already satisfied: charset-normalizer<4,>=2 in /usr/local/lib/python3.10/dist-packages (from requests->vaderSentiment) (3.3.2)\n",
      "Requirement already satisfied: idna<4,>=2.5 in /usr/local/lib/python3.10/dist-packages (from requests->vaderSentiment) (3.6)\n",
      "Requirement already satisfied: urllib3<3,>=1.21.1 in /usr/local/lib/python3.10/dist-packages (from requests->vaderSentiment) (2.0.7)\n",
      "Requirement already satisfied: certifi>=2017.4.17 in /usr/local/lib/python3.10/dist-packages (from requests->vaderSentiment) (2023.11.17)\n"
     ]
    }
   ],
   "source": [
    "!pip install vaderSentiment\n"
   ]
  },
  {
   "cell_type": "code",
   "execution_count": 2,
   "metadata": {
    "id": "M65If29pLgDM"
   },
   "outputs": [],
   "source": [
    "# Importing all the required libraries\n",
    "import pandas as pd\n",
    "from sklearn.model_selection import train_test_split\n",
    "from sklearn.feature_extraction.text import CountVectorizer, TfidfVectorizer\n",
    "from sklearn.naive_bayes import MultinomialNB\n",
    "from sklearn.svm import SVC\n",
    "from sklearn.metrics import accuracy_score, classification_report\n",
    "from vaderSentiment.vaderSentiment import SentimentIntensityAnalyzer"
   ]
  },
  {
   "cell_type": "code",
   "execution_count": 3,
   "metadata": {
    "id": "qEEICxKCQSTC"
   },
   "outputs": [],
   "source": [
    "# Loading the dataset into dataframe\n",
    "reviews = pd.read_csv(r\"/content/sample_data/restaurant_reviews_az.csv\")"
   ]
  },
  {
   "cell_type": "code",
   "execution_count": 4,
   "metadata": {
    "colab": {
     "base_uri": "https://localhost:8080/"
    },
    "id": "7zhF54TdQSP6",
    "outputId": "b72dca3f-f29b-403f-8150-92c51b431188"
   },
   "outputs": [
    {
     "name": "stderr",
     "output_type": "stream",
     "text": [
      "<ipython-input-4-f64aef63dba4>:3: SettingWithCopyWarning: \n",
      "A value is trying to be set on a copy of a slice from a DataFrame.\n",
      "Try using .loc[row_indexer,col_indexer] = value instead\n",
      "\n",
      "See the caveats in the documentation: https://pandas.pydata.org/pandas-docs/stable/user_guide/indexing.html#returning-a-view-versus-a-copy\n",
      "  reviews['Sentiment'] = reviews['stars'].apply(lambda x: 1 if x >= 4 else 0)\n"
     ]
    }
   ],
   "source": [
    "# Removing 3 star reviews from the input data and creating a new column 'Sentiment'\n",
    "reviews = reviews[reviews['stars'] != 3]\n",
    "reviews['Sentiment'] = reviews['stars'].apply(lambda x: 1 if x >= 4 else 0)"
   ]
  },
  {
   "cell_type": "code",
   "execution_count": 5,
   "metadata": {
    "id": "DBmQYtb9QSNQ"
   },
   "outputs": [],
   "source": [
    "# Preparing training and test sets\n",
    "X_train, X_test, y_train, y_test = train_test_split(reviews['text'], reviews['Sentiment'], test_size=0.2, random_state=5)"
   ]
  },
  {
   "cell_type": "code",
   "execution_count": 6,
   "metadata": {
    "id": "QeBXms9EQSKo"
   },
   "outputs": [],
   "source": [
    "# Conducting necessary data processing and use Count Vectorizer\n",
    "count_vectorizer = CountVectorizer(max_features=1000)\n",
    "X_train_count = count_vectorizer.fit_transform(X_train)\n",
    "X_test_count = count_vectorizer.transform(X_test)"
   ]
  },
  {
   "cell_type": "code",
   "execution_count": 7,
   "metadata": {
    "colab": {
     "base_uri": "https://localhost:8080/"
    },
    "id": "xbBcglGYQSIQ",
    "outputId": "8f616133-eb69-46c0-8a94-9657e7013d38"
   },
   "outputs": [
    {
     "name": "stdout",
     "output_type": "stream",
     "text": [
      "0.9147295611747364\n",
      "              precision    recall  f1-score   support\n",
      "\n",
      "           0       0.84      0.84      0.84      2409\n",
      "           1       0.94      0.94      0.94      6410\n",
      "\n",
      "    accuracy                           0.91      8819\n",
      "   macro avg       0.89      0.89      0.89      8819\n",
      "weighted avg       0.91      0.91      0.91      8819\n",
      "\n"
     ]
    }
   ],
   "source": [
    "# Training Naive Bayes model with Count Vectorizer\n",
    "nb_model_count = MultinomialNB()\n",
    "nb_model_count.fit(X_train_count, y_train)\n",
    "predictions_count = nb_model_count.predict(X_test_count)\n",
    "accuracy_count = accuracy_score(y_test, predictions_count)\n",
    "report_count = classification_report(y_test, predictions_count)\n",
    "print(accuracy_count)\n",
    "print(report_count)"
   ]
  },
  {
   "cell_type": "code",
   "execution_count": 8,
   "metadata": {
    "colab": {
     "base_uri": "https://localhost:8080/"
    },
    "id": "0lELrvF14iTl",
    "outputId": "1ea9a766-3f24-483a-e13c-0376b62812c8"
   },
   "outputs": [
    {
     "name": "stdout",
     "output_type": "stream",
     "text": [
      "0.9425104887175416\n",
      "              precision    recall  f1-score   support\n",
      "\n",
      "           0       0.90      0.89      0.89      2409\n",
      "           1       0.96      0.96      0.96      6410\n",
      "\n",
      "    accuracy                           0.94      8819\n",
      "   macro avg       0.93      0.92      0.93      8819\n",
      "weighted avg       0.94      0.94      0.94      8819\n",
      "\n"
     ]
    }
   ],
   "source": [
    "# Training SVM model with Count Vectorizer\n",
    "svm_model_count = SVC()\n",
    "svm_model_count.fit(X_train_count, y_train)\n",
    "svm_pred_count = svm_model_count.predict(X_test_count)\n",
    "svm_accuracy_count = accuracy_score(y_test, svm_pred_count)\n",
    "svm_report_count = classification_report(y_test, svm_pred_count)\n",
    "print(svm_accuracy_count)\n",
    "print(svm_report_count)"
   ]
  },
  {
   "cell_type": "code",
   "execution_count": 9,
   "metadata": {
    "id": "gYDFaxr2QSEz"
   },
   "outputs": [],
   "source": [
    "# TF-IDF vectorizer to represent the documents\n",
    "tfidf_vectorizer = TfidfVectorizer(max_features=1000)\n",
    "X_train_tfidf = tfidf_vectorizer.fit_transform(X_train)\n",
    "X_test_tfidf = tfidf_vectorizer.transform(X_test)"
   ]
  },
  {
   "cell_type": "code",
   "execution_count": 10,
   "metadata": {
    "colab": {
     "base_uri": "https://localhost:8080/"
    },
    "id": "wbptNwwuSEkm",
    "outputId": "4769e5de-4291-49f1-832c-beac275847d8"
   },
   "outputs": [
    {
     "name": "stdout",
     "output_type": "stream",
     "text": [
      "0.9072457194693276\n",
      "              precision    recall  f1-score   support\n",
      "\n",
      "           0       0.92      0.72      0.81      2409\n",
      "           1       0.90      0.98      0.94      6410\n",
      "\n",
      "    accuracy                           0.91      8819\n",
      "   macro avg       0.91      0.85      0.87      8819\n",
      "weighted avg       0.91      0.91      0.90      8819\n",
      "\n"
     ]
    }
   ],
   "source": [
    "# Training a naive bayes classifcation model with TF-IDF feature values\n",
    "nb_model_tfidf = MultinomialNB()\n",
    "nb_model_tfidf.fit(X_train_tfidf, y_train)\n",
    "predictions_tfidf = nb_model_tfidf.predict(X_test_tfidf)\n",
    "accuracy_tfidf = accuracy_score(y_test, predictions_tfidf)\n",
    "report_tfidf = classification_report(y_test, predictions_tfidf)\n",
    "print(accuracy_tfidf)\n",
    "print(report_tfidf)"
   ]
  },
  {
   "cell_type": "code",
   "execution_count": 11,
   "metadata": {
    "colab": {
     "base_uri": "https://localhost:8080/"
    },
    "id": "_4prZLPtQRmu",
    "outputId": "2ec921b3-490d-4944-ca2f-c7e5897ab5ee"
   },
   "outputs": [
    {
     "name": "stdout",
     "output_type": "stream",
     "text": [
      "0.9524889443247534\n",
      "              precision    recall  f1-score   support\n",
      "\n",
      "           0       0.92      0.91      0.91      2409\n",
      "           1       0.97      0.97      0.97      6410\n",
      "\n",
      "    accuracy                           0.95      8819\n",
      "   macro avg       0.94      0.94      0.94      8819\n",
      "weighted avg       0.95      0.95      0.95      8819\n",
      "\n"
     ]
    }
   ],
   "source": [
    "# Training and evaluating the performance of SVM model with TF-IDF\n",
    "svm_model_tfidf = SVC()\n",
    "svm_model_tfidf.fit(X_train_tfidf, y_train)\n",
    "predictions_svm_tfidf = svm_model_tfidf.predict(X_test_tfidf)\n",
    "accuracy_svm_tfidf = accuracy_score(y_test, predictions_svm_tfidf)\n",
    "report_svm_tfidf = classification_report(y_test, predictions_svm_tfidf)\n",
    "print(accuracy_svm_tfidf)\n",
    "print(report_svm_tfidf)"
   ]
  },
  {
   "cell_type": "code",
   "execution_count": 12,
   "metadata": {
    "colab": {
     "base_uri": "https://localhost:8080/"
    },
    "id": "Fq0Saej8SFFB",
    "outputId": "07f61b81-52d4-43d1-af81-2bfa26328cbc"
   },
   "outputs": [
    {
     "name": "stdout",
     "output_type": "stream",
     "text": [
      "0.86605583652734\n",
      "              precision    recall  f1-score   support\n",
      "\n",
      "           0       0.94      0.56      0.70     12312\n",
      "           1       0.85      0.99      0.91     31781\n",
      "\n",
      "    accuracy                           0.87     44093\n",
      "   macro avg       0.89      0.77      0.81     44093\n",
      "weighted avg       0.88      0.87      0.85     44093\n",
      "\n"
     ]
    }
   ],
   "source": [
    "# Using VaderSentiment to predict review sentiment and evaluating its performance\n",
    "analyzer = SentimentIntensityAnalyzer()\n",
    "reviews['VaderSentiment'] = reviews['text'].apply(lambda x: 1 if analyzer.polarity_scores(x)['compound'] >= 0 else 0)\n",
    "accuracy_vader = accuracy_score(reviews['Sentiment'], reviews['VaderSentiment'])\n",
    "report_vader = classification_report(reviews['Sentiment'], reviews['VaderSentiment'])\n",
    "print(accuracy_vader)\n",
    "print(report_vader)"
   ]
  }
 ],
 "metadata": {
  "colab": {
   "provenance": []
  },
  "kernelspec": {
   "display_name": "Python 3 (ipykernel)",
   "language": "python",
   "name": "python3"
  },
  "language_info": {
   "codemirror_mode": {
    "name": "ipython",
    "version": 3
   },
   "file_extension": ".py",
   "mimetype": "text/x-python",
   "name": "python",
   "nbconvert_exporter": "python",
   "pygments_lexer": "ipython3",
   "version": "3.11.4"
  }
 },
 "nbformat": 4,
 "nbformat_minor": 1
}
